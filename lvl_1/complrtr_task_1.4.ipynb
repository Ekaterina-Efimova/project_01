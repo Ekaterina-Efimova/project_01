{
 "cells": [
  {
   "cell_type": "code",
   "execution_count": 13,
   "id": "8bf79463",
   "metadata": {},
   "outputs": [
    {
     "name": "stdout",
     "output_type": "stream",
     "text": [
      "Кроссовки тип 3 (Adidas) - 26 шт, стоимость 42562 руб\n",
      "Мячик тип 2 (Adidas) - 52 шт, стоимость 2418 руб\n",
      "Кепка тип 1 (Adidas) - 52 шт, стоимость 14820 руб\n",
      "Ремень тип 2 (Nike) - 52 шт, стоимость 10140 руб\n",
      "Футболка тип 1 (Adidas) - 78 шт, стоимость 29952 руб\n",
      "Шапка тип 5 (Puma) - 26 шт, стоимость 4550 руб\n"
     ]
    }
   ],
   "source": [
    "from tabulate import tabulate\n",
    "titles = {\n",
    "    'Кроссовки тип 3 (Adidas)': '100000110',\n",
    "    'Мячик тип 2 (Adidas)': '100000146',\n",
    "    'Кепка тип 1 (Adidas)': '100000149',\n",
    "    'Ремень тип 2 (Nike)': '100000194',\n",
    "    'Футболка тип 1 (Adidas)': '100000224',\n",
    "    'Шапка тип 5 (Puma)': '100000280',\n",
    "}\n",
    "\n",
    "store = {\n",
    "    '100000110': [{'quantity': 31, 'price': 1637}],\n",
    "    '100000146': [ {'quantity': 4, 'price': 45}, {'quantity': 10, 'price': 48}],\n",
    "    '100000149': [ {'quantity': 28, 'price': 279}, {'quantity': 32, 'price': 291}],\n",
    "    '100000194': [{'quantity': 8, 'price': 220}, {'quantity': 1, 'price': 170}],\n",
    "    '100000224': [{'quantity': 61, 'price': 438}, {'quantity': 23, 'price': 302},  {'quantity': 50, 'price': 412}],\n",
    "    '100000280': [{'quantity': 26, 'price': 175}, ]\n",
    "}\n",
    "\n",
    "for name in titles:\n",
    "    quantity = 0\n",
    "    sum_price = 0\n",
    "    name_id = titles[name]\n",
    "    for i in store[name_id]:\n",
    "        quantity += n['quantity']\n",
    "        sum_price += n['quantity'] * i['price']\n",
    "    print(f\"{name} - {quantity} шт, стоимость {sum_price} руб\")"
   ]
  }
 ],
 "metadata": {
  "kernelspec": {
   "display_name": "Python 3 (ipykernel)",
   "language": "python",
   "name": "python3"
  },
  "language_info": {
   "codemirror_mode": {
    "name": "ipython",
    "version": 3
   },
   "file_extension": ".py",
   "mimetype": "text/x-python",
   "name": "python",
   "nbconvert_exporter": "python",
   "pygments_lexer": "ipython3",
   "version": "3.11.3"
  }
 },
 "nbformat": 4,
 "nbformat_minor": 5
}
