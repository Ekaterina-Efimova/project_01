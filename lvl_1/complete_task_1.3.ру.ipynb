{
 "cells": [
  {
   "cell_type": "code",
   "execution_count": 7,
   "id": "51a650ea",
   "metadata": {},
   "outputs": [
    {
     "name": "stdout",
     "output_type": "stream",
     "text": [
      "Напишите номер месяца:4\n",
      "Вы ввели апрель. 30 дней\n"
     ]
    }
   ],
   "source": [
    "calendar = {\n",
    "    1: 'январь. ''31 день',\n",
    "    2: 'февраль. ''28 дней',\n",
    "    3: 'март. ''31 день',\n",
    "    4: 'апрель. ''30 дней',\n",
    "    5: 'май. ''31 день',\n",
    "    6: 'июнь. ''30 дней',\n",
    "    7: 'июль. ''31 день',\n",
    "    8: 'август. ''31 день',\n",
    "    9: 'сентябрь. ''30 дней',\n",
    "    10: 'октябрь. ''31 день',\n",
    "    11: 'ноябрь. ''30 дней',\n",
    "    12: 'декабрь. ''31 день',\n",
    "}\n",
    "\n",
    "number = int(input(\"Напишите номер месяца:\"))\n",
    "\n",
    "if 1 <= number <= 12:\n",
    "    days = calendar.get(number)\n",
    "    print(\"Вы ввели\", days )\n",
    "else:\n",
    "    print (\"Такого месяца нет!\")"
   ]
  },
  {
   "cell_type": "code",
   "execution_count": null,
   "id": "d8b48fa7",
   "metadata": {},
   "outputs": [],
   "source": []
  }
 ],
 "metadata": {
  "kernelspec": {
   "display_name": "Python 3 (ipykernel)",
   "language": "python",
   "name": "python3"
  },
  "language_info": {
   "codemirror_mode": {
    "name": "ipython",
    "version": 3
   },
   "file_extension": ".py",
   "mimetype": "text/x-python",
   "name": "python",
   "nbconvert_exporter": "python",
   "pygments_lexer": "ipython3",
   "version": "3.11.3"
  }
 },
 "nbformat": 4,
 "nbformat_minor": 5
}
