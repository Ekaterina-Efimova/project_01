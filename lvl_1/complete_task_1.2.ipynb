{
 "cells": [
  {
   "cell_type": "code",
   "execution_count": 20,
   "id": "e831c779",
   "metadata": {},
   "outputs": [
    {
     "name": "stdout",
     "output_type": "stream",
     "text": [
      "Три песни звучат 11.36\n",
      "0:11:36\n"
     ]
    }
   ],
   "source": [
    "import random\n",
    "import datetime\n",
    "my_favorite_songs = [\n",
    "    ['Waste a Moment', 3.03],\n",
    "    ['New Salvation', 4.02],\n",
    "    ['Staying\\' Alive', 3.40],\n",
    "    ['Out of Touch', 3.03],\n",
    "    ['A Sorta Fairytale', 5.28],\n",
    "    ['Easy', 4.15],\n",
    "    ['Beautiful Day', 4.04],\n",
    "    ['Nowhere to Run', 2.58],\n",
    "    ['In This World', 4.02],\n",
    "]\n",
    "\n",
    "i = 0\n",
    "alltime = 0\n",
    "\n",
    "while i < 3:\n",
    "    time_1 = random.choice(my_favorite_songs)\n",
    "    t = str(time_1[1]).split('.')\n",
    "    time = int(t[0])*60 + int(t[1])\n",
    "    alltime += time\n",
    "    i += 1\n",
    "\n",
    "minutes = alltime // 60\n",
    "seconds = alltime % 60\n",
    "print(f\"Три песни звучат {minutes}.{seconds}\")\n",
    "\n",
    "t1 = datetime.timedelta(seconds = alltime)\n",
    "print(t1)"
   ]
  },
  {
   "cell_type": "code",
   "execution_count": null,
   "id": "c1f378b1",
   "metadata": {},
   "outputs": [],
   "source": []
  }
 ],
 "metadata": {
  "kernelspec": {
   "display_name": "Python 3 (ipykernel)",
   "language": "python",
   "name": "python3"
  },
  "language_info": {
   "codemirror_mode": {
    "name": "ipython",
    "version": 3
   },
   "file_extension": ".py",
   "mimetype": "text/x-python",
   "name": "python",
   "nbconvert_exporter": "python",
   "pygments_lexer": "ipython3",
   "version": "3.11.3"
  }
 },
 "nbformat": 4,
 "nbformat_minor": 5
}
