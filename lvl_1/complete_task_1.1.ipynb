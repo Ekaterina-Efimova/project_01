{
 "cells": [
  {
   "cell_type": "code",
   "execution_count": 28,
   "id": "8ca8a2eb",
   "metadata": {},
   "outputs": [
    {
     "name": "stdout",
     "output_type": "stream",
     "text": [
      "Waste a Moment\n",
      "Newe Salvation\n",
      "Staying' Alive\n",
      "Start Me Up\n"
     ]
    }
   ],
   "source": [
    "my_favorite_songs = 'Waste a Moment, Staying\\' Alive, A Sorta Fairytale, Start Me Up, Newe Salvation'\n",
    "\n",
    "t = my_favorite_songs.find('t', 5, 15) + 1\n",
    "N = my_favorite_songs.rfind('N')\n",
    "n = my_favorite_songs.rfind('n') + 1\n",
    "S = my_favorite_songs.find('S') \n",
    "e = my_favorite_songs.find('e', 25, 35) + 1\n",
    "S2 = my_favorite_songs.rfind('S', 45, 55)\n",
    "p = my_favorite_songs.rfind('p') + 1\n",
    "\n",
    "print(my_favorite_songs[0:t])\n",
    "print(my_favorite_songs[N:n])\n",
    "print(my_favorite_songs[S:e])\n",
    "print(my_favorite_songs[S2:p])"
   ]
  },
  {
   "cell_type": "code",
   "execution_count": 18,
   "id": "ff07b700",
   "metadata": {},
   "outputs": [
    {
     "name": "stdout",
     "output_type": "stream",
     "text": [
      "Waste a Moment\n",
      " Newe Salvation\n",
      " Staying' Alive\n",
      " Start Me Up\n"
     ]
    }
   ],
   "source": [
    "my_favorite_songs = 'Waste a Moment, Staying\\' Alive, A Sorta Fairytale, Start Me Up, Newe Salvation'\n",
    "l = my_favorite_songs.split(',')\n",
    "\n",
    "print(l[0])\n",
    "print(l[-1])\n",
    "print(l[1])\n",
    "print(l[-2])"
   ]
  }
 ],
 "metadata": {
  "kernelspec": {
   "display_name": "Python 3 (ipykernel)",
   "language": "python",
   "name": "python3"
  },
  "language_info": {
   "codemirror_mode": {
    "name": "ipython",
    "version": 3
   },
   "file_extension": ".py",
   "mimetype": "text/x-python",
   "name": "python",
   "nbconvert_exporter": "python",
   "pygments_lexer": "ipython3",
   "version": "3.11.3"
  }
 },
 "nbformat": 4,
 "nbformat_minor": 5
}
