{
 "cells": [
  {
   "cell_type": "code",
   "execution_count": 19,
   "id": "f808bed6",
   "metadata": {},
   "outputs": [
    {
     "name": "stdout",
     "output_type": "stream",
     "text": [
      "max = 566\n",
      "min = -134\n",
      "max = 56\n",
      "min = -110\n",
      "max = 87\n",
      "min = 0\n",
      "max = 5\n",
      "min = 5\n"
     ]
    }
   ],
   "source": [
    "def minimum(arr):\n",
    "    a = arr[0]\n",
    "    for x in arr:\n",
    "        if x < a: a = x\n",
    "        elif x == a: a = x\n",
    "        else: a\n",
    "    print('min =', a)\n",
    "\n",
    "def maximum(arr):\n",
    "    a = arr[0]\n",
    "    for x in arr:\n",
    "        if x > a: a = x\n",
    "        elif x == a: a = x\n",
    "        else: a\n",
    "    print('max =', a)\n",
    "    \n",
    "arr1 = [4,6,2,1,9,63,-134,566]  \n",
    "arr2 = [-52, 56, 30, 29, -54, 0, -110]\n",
    "arr3 = [42, 54, 65, 87, 0]\n",
    "arr4 = [5]\n",
    "maximum(arr1)\n",
    "minimum(arr1)\n",
    "maximum(arr2)\n",
    "minimum(arr2) \n",
    "maximum(arr3)\n",
    "minimum(arr3) \n",
    "maximum(arr4)\n",
    "minimum(arr4)\n",
    "   "
   ]
  },
  {
   "cell_type": "code",
   "execution_count": null,
   "id": "af72765e",
   "metadata": {},
   "outputs": [],
   "source": []
  },
  {
   "cell_type": "code",
   "execution_count": null,
   "id": "b6a60a11",
   "metadata": {},
   "outputs": [],
   "source": []
  }
 ],
 "metadata": {
  "kernelspec": {
   "display_name": "Python 3 (ipykernel)",
   "language": "python",
   "name": "python3"
  },
  "language_info": {
   "codemirror_mode": {
    "name": "ipython",
    "version": 3
   },
   "file_extension": ".py",
   "mimetype": "text/x-python",
   "name": "python",
   "nbconvert_exporter": "python",
   "pygments_lexer": "ipython3",
   "version": "3.11.3"
  }
 },
 "nbformat": 4,
 "nbformat_minor": 5
}
