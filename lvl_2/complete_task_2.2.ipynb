{
 "cells": [
  {
   "cell_type": "code",
   "execution_count": 7,
   "id": "7fca74ec",
   "metadata": {},
   "outputs": [],
   "source": [
    "def quarter_of(month):\n",
    "    cal = ['январь', 'февраль', 'март', 'апрель', 'май', 'июнь','июль', 'август', 'сентябрь','октябрь', 'ноябрь', 'декабрь']\n",
    "\n",
    "    if 0< month <4:\n",
    "        m = cal[month - 1]\n",
    "        return(print(f'месяц {month} ({m}) является частью первого квартала'))\n",
    "    elif 3< month <7:    \n",
    "        m = cal[month - 1]\n",
    "        return(print(f'месяц {month} ({m}) является частью второго квартала'))\n",
    "    elif 6< month <10:\n",
    "        m = cal[month - 1]\n",
    "        return(print(f'месяц {month} ({m}) является частью третьего квартала'))\n",
    "    elif 9< month <13:\n",
    "        m = cal[month - 1]\n",
    "        return(print(f'месяц {month} ({m}) является частью четвертого квартала'))\n",
    "    else: return(print('Такого месяца нет.'))\n",
    "    "
   ]
  },
  {
   "cell_type": "code",
   "execution_count": 10,
   "id": "bd0ec967",
   "metadata": {},
   "outputs": [
    {
     "name": "stdout",
     "output_type": "stream",
     "text": [
      "Введите номер месяца: 18\n",
      "Такого месяца нет.\n"
     ]
    }
   ],
   "source": [
    "i = int(input('Введите номер месяца: '))\n",
    "quarter_of(i)"
   ]
  },
  {
   "cell_type": "code",
   "execution_count": null,
   "id": "8ca153dd",
   "metadata": {},
   "outputs": [],
   "source": []
  }
 ],
 "metadata": {
  "kernelspec": {
   "display_name": "Python 3 (ipykernel)",
   "language": "python",
   "name": "python3"
  },
  "language_info": {
   "codemirror_mode": {
    "name": "ipython",
    "version": 3
   },
   "file_extension": ".py",
   "mimetype": "text/x-python",
   "name": "python",
   "nbconvert_exporter": "python",
   "pygments_lexer": "ipython3",
   "version": "3.11.3"
  }
 },
 "nbformat": 4,
 "nbformat_minor": 5
}
