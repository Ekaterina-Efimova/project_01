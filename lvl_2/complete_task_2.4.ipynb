{
 "cells": [
  {
   "cell_type": "code",
   "execution_count": 74,
   "id": "f40aaf13",
   "metadata": {},
   "outputs": [],
   "source": [
    "def remove_exclamation_marks(s):\n",
    "     return(print(s.replace('!','')))\n",
    "    \n",
    "\n",
    "def remove_last_em(s):\n",
    "    if s[-1] == '!':\n",
    "        a = s[-1]\n",
    "        b = s[:-1]\n",
    "        n = b + a.replace('!','')\n",
    "        return(print(n))\n",
    "    else: return(print(s))\n",
    "    \n",
    "def remove_word_with_one_em(s):\n",
    "    z = s.split(' ')\n",
    "    a = []\n",
    "    for i in z:\n",
    "        if '!' in i:\n",
    "            a.append(i)\n",
    "    z = list(set(z) - set(a))    \n",
    "    s = ' '.join(z)\n",
    "    return(print(s))"
   ]
  },
  {
   "cell_type": "code",
   "execution_count": 75,
   "id": "b924596f",
   "metadata": {},
   "outputs": [
    {
     "name": "stdout",
     "output_type": "stream",
     "text": [
      "Hi Hello\n",
      "\n",
      "Oh, no\n"
     ]
    }
   ],
   "source": [
    "remove_exclamation_marks(\"Hi! Hello!\")\n",
    "remove_exclamation_marks(\"\")\n",
    "remove_exclamation_marks(\"Oh, no!!!\")"
   ]
  },
  {
   "cell_type": "code",
   "execution_count": 73,
   "id": "ac92c74b",
   "metadata": {},
   "outputs": [
    {
     "name": "stdout",
     "output_type": "stream",
     "text": [
      "Hi\n",
      "Hi!!\n",
      "!Hi\n"
     ]
    }
   ],
   "source": [
    "remove_last_em(\"Hi!\")\n",
    "remove_last_em(\"Hi!!!\")\n",
    "remove_last_em(\"!Hi\")"
   ]
  },
  {
   "cell_type": "code",
   "execution_count": 161,
   "id": "c8a02b27",
   "metadata": {
    "scrolled": true
   },
   "outputs": [
    {
     "name": "stdout",
     "output_type": "stream",
     "text": [
      "\n",
      "\n",
      "\n",
      "Hi\n",
      "\n",
      "\n",
      "\n"
     ]
    }
   ],
   "source": [
    "remove_word_with_one_em(\"Hi!\") \n",
    "remove_word_with_one_em(\"Hi! Hi!\")\n",
    "remove_word_with_one_em(\"Hi! Hi! Hi!\")\n",
    "remove_word_with_one_em(\"Hi Hi! Hi!\")\n",
    "remove_word_with_one_em(\"Hi! !Hi Hi!\")\n",
    "remove_word_with_one_em(\"Hi! Hi!! Hi!\") \n",
    "remove_word_with_one_em(\"Hi! !Hi! Hi!\")"
   ]
  }
 ],
 "metadata": {
  "kernelspec": {
   "display_name": "Python 3 (ipykernel)",
   "language": "python",
   "name": "python3"
  },
  "language_info": {
   "codemirror_mode": {
    "name": "ipython",
    "version": 3
   },
   "file_extension": ".py",
   "mimetype": "text/x-python",
   "name": "python",
   "nbconvert_exporter": "python",
   "pygments_lexer": "ipython3",
   "version": "3.11.3"
  }
 },
 "nbformat": 4,
 "nbformat_minor": 5
}
