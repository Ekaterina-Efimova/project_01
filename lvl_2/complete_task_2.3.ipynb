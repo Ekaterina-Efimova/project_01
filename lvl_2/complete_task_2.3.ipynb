{
 "cells": [
  {
   "cell_type": "code",
   "execution_count": 21,
   "id": "b9984ffe",
   "metadata": {},
   "outputs": [],
   "source": [
    "def switch_it_up(number):\n",
    "    num = {\n",
    "        1: 'One',\n",
    "        2: 'Two',\n",
    "        3: 'Three',\n",
    "        4: 'Four',\n",
    "        5: 'Five',\n",
    "        6: 'Six',\n",
    "        7: 'Seven',\n",
    "        8: 'Eight',\n",
    "        9: 'Nine',\n",
    "        0: 'Zero'\n",
    "    }\n",
    "    print(num.get(number))"
   ]
  },
  {
   "cell_type": "code",
   "execution_count": 23,
   "id": "59b21d1c",
   "metadata": {},
   "outputs": [
    {
     "name": "stdout",
     "output_type": "stream",
     "text": [
      "One\n",
      "Three\n",
      "None\n",
      "Five\n",
      "None\n"
     ]
    }
   ],
   "source": [
    "switch_it_up(1)\n",
    "switch_it_up(3)\n",
    "switch_it_up(10000)\n",
    "switch_it_up(5)\n",
    "switch_it_up(500)"
   ]
  },
  {
   "cell_type": "code",
   "execution_count": null,
   "id": "3228044d",
   "metadata": {},
   "outputs": [],
   "source": []
  }
 ],
 "metadata": {
  "kernelspec": {
   "display_name": "Python 3 (ipykernel)",
   "language": "python",
   "name": "python3"
  },
  "language_info": {
   "codemirror_mode": {
    "name": "ipython",
    "version": 3
   },
   "file_extension": ".py",
   "mimetype": "text/x-python",
   "name": "python",
   "nbconvert_exporter": "python",
   "pygments_lexer": "ipython3",
   "version": "3.11.3"
  }
 },
 "nbformat": 4,
 "nbformat_minor": 5
}
